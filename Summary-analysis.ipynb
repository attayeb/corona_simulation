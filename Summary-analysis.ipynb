{
 "cells": [
  {
   "cell_type": "markdown",
   "metadata": {},
   "source": [
    "# The impact of community containment implementation timing <br> on the spread of COVID-19: A simulation study\n",
    "***\n",
    "### Attayeb Mohsen and Ahmed Alarabi\n",
    "\n",
    "Submittet to F1000Research\n",
    "\n"
   ]
  },
  {
   "cell_type": "code",
   "execution_count": 1,
   "metadata": {},
   "outputs": [],
   "source": [
    "import pandas as pd\n",
    "import matplotlib.pylab as plt\n",
    "import matplotlib.ticker as ticker\n",
    "from numpy import trim_zeros"
   ]
  },
  {
   "cell_type": "markdown",
   "metadata": {},
   "source": [
    "Reading summarized data from previous step:"
   ]
  },
  {
   "cell_type": "code",
   "execution_count": 2,
   "metadata": {},
   "outputs": [
    {
     "ename": "FileNotFoundError",
     "evalue": "[Errno 2] File sdf45.csv does not exist: 'sdf45.csv'",
     "output_type": "error",
     "traceback": [
      "\u001b[0;31m---------------------------------------------------------------------------\u001b[0m",
      "\u001b[0;31mFileNotFoundError\u001b[0m                         Traceback (most recent call last)",
      "\u001b[0;32m<ipython-input-2-bc710c7782ca>\u001b[0m in \u001b[0;36m<module>\u001b[0;34m\u001b[0m\n\u001b[1;32m      1\u001b[0m \u001b[0;32mfor\u001b[0m \u001b[0mj\u001b[0m \u001b[0;32min\u001b[0m \u001b[0;34m[\u001b[0m\u001b[0;36m45\u001b[0m\u001b[0;34m,\u001b[0m \u001b[0;36m55\u001b[0m\u001b[0;34m,\u001b[0m \u001b[0;36m65\u001b[0m\u001b[0;34m,\u001b[0m \u001b[0;36m75\u001b[0m\u001b[0;34m,\u001b[0m \u001b[0;36m85\u001b[0m\u001b[0;34m,\u001b[0m \u001b[0;36m95\u001b[0m\u001b[0;34m]\u001b[0m\u001b[0;34m:\u001b[0m\u001b[0;34m\u001b[0m\u001b[0;34m\u001b[0m\u001b[0m\n\u001b[0;32m----> 2\u001b[0;31m     \u001b[0mexec\u001b[0m\u001b[0;34m(\u001b[0m\u001b[0;34m'sdf{} = pd.read_csv(\"sdf{}.csv\")'\u001b[0m\u001b[0;34m.\u001b[0m\u001b[0mformat\u001b[0m\u001b[0;34m(\u001b[0m\u001b[0mj\u001b[0m\u001b[0;34m,\u001b[0m \u001b[0mj\u001b[0m\u001b[0;34m)\u001b[0m\u001b[0;34m)\u001b[0m\u001b[0;34m\u001b[0m\u001b[0;34m\u001b[0m\u001b[0m\n\u001b[0m\u001b[1;32m      3\u001b[0m     \u001b[0mexec\u001b[0m\u001b[0;34m(\u001b[0m\u001b[0;34m'rdf{} = pd.read_csv(\"rdf{}.csv\")'\u001b[0m\u001b[0;34m.\u001b[0m\u001b[0mformat\u001b[0m\u001b[0;34m(\u001b[0m\u001b[0mj\u001b[0m\u001b[0;34m,\u001b[0m \u001b[0mj\u001b[0m\u001b[0;34m)\u001b[0m\u001b[0;34m)\u001b[0m\u001b[0;34m\u001b[0m\u001b[0;34m\u001b[0m\u001b[0m\n\u001b[1;32m      4\u001b[0m     \u001b[0mexec\u001b[0m\u001b[0;34m(\u001b[0m\u001b[0;34m'mdf{} = pd.read_csv(\"mdf{}.csv\")'\u001b[0m\u001b[0;34m.\u001b[0m\u001b[0mformat\u001b[0m\u001b[0;34m(\u001b[0m\u001b[0mj\u001b[0m\u001b[0;34m,\u001b[0m \u001b[0mj\u001b[0m\u001b[0;34m)\u001b[0m\u001b[0;34m)\u001b[0m\u001b[0;34m\u001b[0m\u001b[0;34m\u001b[0m\u001b[0m\n\u001b[1;32m      5\u001b[0m     \u001b[0mexec\u001b[0m\u001b[0;34m(\u001b[0m\u001b[0;34m'nrdf{} = pd.read_csv(\"nrdf{}.csv\")'\u001b[0m\u001b[0;34m.\u001b[0m\u001b[0mformat\u001b[0m\u001b[0;34m(\u001b[0m\u001b[0mj\u001b[0m\u001b[0;34m,\u001b[0m \u001b[0mj\u001b[0m\u001b[0;34m)\u001b[0m\u001b[0;34m)\u001b[0m\u001b[0;34m\u001b[0m\u001b[0;34m\u001b[0m\u001b[0m\n",
      "\u001b[0;32m<string>\u001b[0m in \u001b[0;36m<module>\u001b[0;34m\u001b[0m\n",
      "\u001b[0;32m~/miniconda3/lib/python3.7/site-packages/pandas/io/parsers.py\u001b[0m in \u001b[0;36mparser_f\u001b[0;34m(filepath_or_buffer, sep, delimiter, header, names, index_col, usecols, squeeze, prefix, mangle_dupe_cols, dtype, engine, converters, true_values, false_values, skipinitialspace, skiprows, skipfooter, nrows, na_values, keep_default_na, na_filter, verbose, skip_blank_lines, parse_dates, infer_datetime_format, keep_date_col, date_parser, dayfirst, cache_dates, iterator, chunksize, compression, thousands, decimal, lineterminator, quotechar, quoting, doublequote, escapechar, comment, encoding, dialect, error_bad_lines, warn_bad_lines, delim_whitespace, low_memory, memory_map, float_precision)\u001b[0m\n\u001b[1;32m    674\u001b[0m         )\n\u001b[1;32m    675\u001b[0m \u001b[0;34m\u001b[0m\u001b[0m\n\u001b[0;32m--> 676\u001b[0;31m         \u001b[0;32mreturn\u001b[0m \u001b[0m_read\u001b[0m\u001b[0;34m(\u001b[0m\u001b[0mfilepath_or_buffer\u001b[0m\u001b[0;34m,\u001b[0m \u001b[0mkwds\u001b[0m\u001b[0;34m)\u001b[0m\u001b[0;34m\u001b[0m\u001b[0;34m\u001b[0m\u001b[0m\n\u001b[0m\u001b[1;32m    677\u001b[0m \u001b[0;34m\u001b[0m\u001b[0m\n\u001b[1;32m    678\u001b[0m     \u001b[0mparser_f\u001b[0m\u001b[0;34m.\u001b[0m\u001b[0m__name__\u001b[0m \u001b[0;34m=\u001b[0m \u001b[0mname\u001b[0m\u001b[0;34m\u001b[0m\u001b[0;34m\u001b[0m\u001b[0m\n",
      "\u001b[0;32m~/miniconda3/lib/python3.7/site-packages/pandas/io/parsers.py\u001b[0m in \u001b[0;36m_read\u001b[0;34m(filepath_or_buffer, kwds)\u001b[0m\n\u001b[1;32m    446\u001b[0m \u001b[0;34m\u001b[0m\u001b[0m\n\u001b[1;32m    447\u001b[0m     \u001b[0;31m# Create the parser.\u001b[0m\u001b[0;34m\u001b[0m\u001b[0;34m\u001b[0m\u001b[0;34m\u001b[0m\u001b[0m\n\u001b[0;32m--> 448\u001b[0;31m     \u001b[0mparser\u001b[0m \u001b[0;34m=\u001b[0m \u001b[0mTextFileReader\u001b[0m\u001b[0;34m(\u001b[0m\u001b[0mfp_or_buf\u001b[0m\u001b[0;34m,\u001b[0m \u001b[0;34m**\u001b[0m\u001b[0mkwds\u001b[0m\u001b[0;34m)\u001b[0m\u001b[0;34m\u001b[0m\u001b[0;34m\u001b[0m\u001b[0m\n\u001b[0m\u001b[1;32m    449\u001b[0m \u001b[0;34m\u001b[0m\u001b[0m\n\u001b[1;32m    450\u001b[0m     \u001b[0;32mif\u001b[0m \u001b[0mchunksize\u001b[0m \u001b[0;32mor\u001b[0m \u001b[0miterator\u001b[0m\u001b[0;34m:\u001b[0m\u001b[0;34m\u001b[0m\u001b[0;34m\u001b[0m\u001b[0m\n",
      "\u001b[0;32m~/miniconda3/lib/python3.7/site-packages/pandas/io/parsers.py\u001b[0m in \u001b[0;36m__init__\u001b[0;34m(self, f, engine, **kwds)\u001b[0m\n\u001b[1;32m    878\u001b[0m             \u001b[0mself\u001b[0m\u001b[0;34m.\u001b[0m\u001b[0moptions\u001b[0m\u001b[0;34m[\u001b[0m\u001b[0;34m\"has_index_names\"\u001b[0m\u001b[0;34m]\u001b[0m \u001b[0;34m=\u001b[0m \u001b[0mkwds\u001b[0m\u001b[0;34m[\u001b[0m\u001b[0;34m\"has_index_names\"\u001b[0m\u001b[0;34m]\u001b[0m\u001b[0;34m\u001b[0m\u001b[0;34m\u001b[0m\u001b[0m\n\u001b[1;32m    879\u001b[0m \u001b[0;34m\u001b[0m\u001b[0m\n\u001b[0;32m--> 880\u001b[0;31m         \u001b[0mself\u001b[0m\u001b[0;34m.\u001b[0m\u001b[0m_make_engine\u001b[0m\u001b[0;34m(\u001b[0m\u001b[0mself\u001b[0m\u001b[0;34m.\u001b[0m\u001b[0mengine\u001b[0m\u001b[0;34m)\u001b[0m\u001b[0;34m\u001b[0m\u001b[0;34m\u001b[0m\u001b[0m\n\u001b[0m\u001b[1;32m    881\u001b[0m \u001b[0;34m\u001b[0m\u001b[0m\n\u001b[1;32m    882\u001b[0m     \u001b[0;32mdef\u001b[0m \u001b[0mclose\u001b[0m\u001b[0;34m(\u001b[0m\u001b[0mself\u001b[0m\u001b[0;34m)\u001b[0m\u001b[0;34m:\u001b[0m\u001b[0;34m\u001b[0m\u001b[0;34m\u001b[0m\u001b[0m\n",
      "\u001b[0;32m~/miniconda3/lib/python3.7/site-packages/pandas/io/parsers.py\u001b[0m in \u001b[0;36m_make_engine\u001b[0;34m(self, engine)\u001b[0m\n\u001b[1;32m   1112\u001b[0m     \u001b[0;32mdef\u001b[0m \u001b[0m_make_engine\u001b[0m\u001b[0;34m(\u001b[0m\u001b[0mself\u001b[0m\u001b[0;34m,\u001b[0m \u001b[0mengine\u001b[0m\u001b[0;34m=\u001b[0m\u001b[0;34m\"c\"\u001b[0m\u001b[0;34m)\u001b[0m\u001b[0;34m:\u001b[0m\u001b[0;34m\u001b[0m\u001b[0;34m\u001b[0m\u001b[0m\n\u001b[1;32m   1113\u001b[0m         \u001b[0;32mif\u001b[0m \u001b[0mengine\u001b[0m \u001b[0;34m==\u001b[0m \u001b[0;34m\"c\"\u001b[0m\u001b[0;34m:\u001b[0m\u001b[0;34m\u001b[0m\u001b[0;34m\u001b[0m\u001b[0m\n\u001b[0;32m-> 1114\u001b[0;31m             \u001b[0mself\u001b[0m\u001b[0;34m.\u001b[0m\u001b[0m_engine\u001b[0m \u001b[0;34m=\u001b[0m \u001b[0mCParserWrapper\u001b[0m\u001b[0;34m(\u001b[0m\u001b[0mself\u001b[0m\u001b[0;34m.\u001b[0m\u001b[0mf\u001b[0m\u001b[0;34m,\u001b[0m \u001b[0;34m**\u001b[0m\u001b[0mself\u001b[0m\u001b[0;34m.\u001b[0m\u001b[0moptions\u001b[0m\u001b[0;34m)\u001b[0m\u001b[0;34m\u001b[0m\u001b[0;34m\u001b[0m\u001b[0m\n\u001b[0m\u001b[1;32m   1115\u001b[0m         \u001b[0;32melse\u001b[0m\u001b[0;34m:\u001b[0m\u001b[0;34m\u001b[0m\u001b[0;34m\u001b[0m\u001b[0m\n\u001b[1;32m   1116\u001b[0m             \u001b[0;32mif\u001b[0m \u001b[0mengine\u001b[0m \u001b[0;34m==\u001b[0m \u001b[0;34m\"python\"\u001b[0m\u001b[0;34m:\u001b[0m\u001b[0;34m\u001b[0m\u001b[0;34m\u001b[0m\u001b[0m\n",
      "\u001b[0;32m~/miniconda3/lib/python3.7/site-packages/pandas/io/parsers.py\u001b[0m in \u001b[0;36m__init__\u001b[0;34m(self, src, **kwds)\u001b[0m\n\u001b[1;32m   1889\u001b[0m         \u001b[0mkwds\u001b[0m\u001b[0;34m[\u001b[0m\u001b[0;34m\"usecols\"\u001b[0m\u001b[0;34m]\u001b[0m \u001b[0;34m=\u001b[0m \u001b[0mself\u001b[0m\u001b[0;34m.\u001b[0m\u001b[0musecols\u001b[0m\u001b[0;34m\u001b[0m\u001b[0;34m\u001b[0m\u001b[0m\n\u001b[1;32m   1890\u001b[0m \u001b[0;34m\u001b[0m\u001b[0m\n\u001b[0;32m-> 1891\u001b[0;31m         \u001b[0mself\u001b[0m\u001b[0;34m.\u001b[0m\u001b[0m_reader\u001b[0m \u001b[0;34m=\u001b[0m \u001b[0mparsers\u001b[0m\u001b[0;34m.\u001b[0m\u001b[0mTextReader\u001b[0m\u001b[0;34m(\u001b[0m\u001b[0msrc\u001b[0m\u001b[0;34m,\u001b[0m \u001b[0;34m**\u001b[0m\u001b[0mkwds\u001b[0m\u001b[0;34m)\u001b[0m\u001b[0;34m\u001b[0m\u001b[0;34m\u001b[0m\u001b[0m\n\u001b[0m\u001b[1;32m   1892\u001b[0m         \u001b[0mself\u001b[0m\u001b[0;34m.\u001b[0m\u001b[0munnamed_cols\u001b[0m \u001b[0;34m=\u001b[0m \u001b[0mself\u001b[0m\u001b[0;34m.\u001b[0m\u001b[0m_reader\u001b[0m\u001b[0;34m.\u001b[0m\u001b[0munnamed_cols\u001b[0m\u001b[0;34m\u001b[0m\u001b[0;34m\u001b[0m\u001b[0m\n\u001b[1;32m   1893\u001b[0m \u001b[0;34m\u001b[0m\u001b[0m\n",
      "\u001b[0;32mpandas/_libs/parsers.pyx\u001b[0m in \u001b[0;36mpandas._libs.parsers.TextReader.__cinit__\u001b[0;34m()\u001b[0m\n",
      "\u001b[0;32mpandas/_libs/parsers.pyx\u001b[0m in \u001b[0;36mpandas._libs.parsers.TextReader._setup_parser_source\u001b[0;34m()\u001b[0m\n",
      "\u001b[0;31mFileNotFoundError\u001b[0m: [Errno 2] File sdf45.csv does not exist: 'sdf45.csv'"
     ]
    }
   ],
   "source": [
    "for j in [45, 55, 65, 75, 85, 95]:\n",
    "    exec('sdf{} = pd.read_csv(\"Results/sdf{}.csv\")'.format(j, j))\n",
    "    exec('rdf{} = pd.read_csv(\"Results/rdf{}.csv\")'.format(j, j))\n",
    "    exec('mdf{} = pd.read_csv(\"Results/mdf{}.csv\")'.format(j, j))\n",
    "    exec('nrdf{} = pd.read_csv(\"Results/nrdf{}.csv\")'.format(j, j))\n",
    "rdf60 = pd.read_csv('Results/rdf6045.csv')"
   ]
  },
  {
   "cell_type": "code",
   "execution_count": null,
   "metadata": {},
   "outputs": [],
   "source": [
    "font_size=14"
   ]
  },
  {
   "cell_type": "markdown",
   "metadata": {},
   "source": [
    "## Plotting Figure 1\n",
    "<hr style=\"border:2px solid black\"> </hr>"
   ]
  },
  {
   "cell_type": "code",
   "execution_count": null,
   "metadata": {},
   "outputs": [],
   "source": [
    "\n",
    "js = [45, 55, 65, 75, 85, 95]\n",
    "variable = \"'active'\"\n",
    "fig, ax = plt.subplots(3,2, figsize=(6, 6))\n",
    "\n",
    "\n",
    "for j in reversed(js):\n",
    "    exec(\"ax[0, 0].plot(mdf{j}['day']-10, mdf{j}[{variable}], \"\n",
    "         \"label=int({j})-10)\".format(j=str(j), variable=variable))\n",
    "\n",
    "\n",
    "ax[0, 0].set_xlim([55, 105])\n",
    "ax[0, 0].set_ylim([0, 60000])\n",
    "ax[0, 0].set_title(\"Loose\", fontsize=font_size)\n",
    "ax[0, 0].yaxis.set_major_formatter(ticker.EngFormatter())\n",
    "ax[0, 0].set_ylabel('Active cases', fontsize=font_size)\n",
    "\n",
    "\n",
    "for j in reversed(js):\n",
    "    exec(\"ax[0,1].plot(sdf{j}['day']-10, sdf{j}[{variable}], \"\n",
    "         \"label=int({j})-10)\".format(j=str(j), variable=variable))\n",
    "\n",
    "\n",
    "ax[0, 1].set_title(\"Strict\", fontsize = font_size)\n",
    "\n",
    "ax[0, 1].set_xlim([55, 105])\n",
    "ax[0,1].set_ylim([0, 60000])\n",
    "ax[0,1].yaxis.set_major_formatter(ticker.EngFormatter())\n",
    "\n",
    "\n",
    "variable = \"'hospitalized'\"\n",
    "for j in reversed(js):\n",
    "    exec(\"ax[1, 0].plot(mdf{j}['day']-10, mdf{j}[{variable}], \"\n",
    "         \"label=int({j})-10)\".format(j=str(j), variable=variable))\n",
    "\n",
    "\n",
    "ax[1,0].set_xlim([55, 105])\n",
    "ax[1,0].set_ylim([0, 10000])\n",
    "ax[1,0].set_ylabel(\"Hospitalized\", fontsize=font_size)\n",
    "ax[1,0].yaxis.set_major_formatter(ticker.EngFormatter())\n",
    "\n",
    "\n",
    "for j in reversed(js):\n",
    "    exec(\"ax[1,1].plot(sdf{j}['day']-10, sdf{j}[{variable}], \"\n",
    "         \"label=int({j})-10)\".format(j=str(j), variable=variable))\n",
    "\n",
    "ax[1,1].set_xlim([55, 105])\n",
    "ax[1,1].set_ylim([0, 10000])\n",
    "ax[1,1].yaxis.set_major_formatter(ticker.EngFormatter())\n",
    "\n",
    "variable = \"'dead'\"\n",
    "\n",
    "for j in reversed(js):\n",
    "    exec(\"ax[2,0].plot(mdf{j}['day']-10, mdf{j}[{variable}], \"\n",
    "         \"label=int({j})-10)\".format(j=str(j), variable=variable))\n",
    "\n",
    "ax[2,0].set_xlim([55, 105])\n",
    "ax[2,0].set_ylim([0, 1500])\n",
    "ax[2,0].set_ylabel('Dead cases', fontsize=font_size)\n",
    "ax[2,0].yaxis.set_major_formatter(ticker.EngFormatter())\n",
    "\n",
    "\n",
    "for j in reversed(js):\n",
    "    exec(\"ax[2,1].plot(sdf{j}['day']-10, sdf{j}[{variable}], \"\n",
    "         \"label=int({j})-10)\".format(j=str(j), variable=variable))\n",
    "\n",
    "ax[2,1].set_xlim([55, 105])\n",
    "ax[2,1].set_ylim([0, 1500])\n",
    "\n",
    "ax[2,1].yaxis.set_major_formatter(ticker.EngFormatter())\n",
    "\n",
    "ax[0,1].legend(loc='center left', bbox_to_anchor=(1, 0.5))\n",
    "\n",
    "for a in ax.flat:\n",
    "    a.label_outer()\n",
    "\n",
    "fig.text(0.5, 0, 'Days after first patient diagnosis', ha='center', va='center',\n",
    "        fontsize=font_size)\n",
    "fig.tight_layout()\n"
   ]
  },
  {
   "cell_type": "markdown",
   "metadata": {},
   "source": [
    "**Figure 1.** Comparing the numbers of active cases, hospitalized,\n",
    "and deaths of loose versus strict scenario. X\n",
    "axis shows the day after first patient diagnosis, colored\n",
    "lines correspond to the day when community\n",
    "containment starts.\n"
   ]
  },
  {
   "cell_type": "markdown",
   "metadata": {},
   "source": [
    "## Plotting Figure 2\n",
    "<hr style=\"border:2px solid black\"> </hr>"
   ]
  },
  {
   "cell_type": "code",
   "execution_count": null,
   "metadata": {},
   "outputs": [],
   "source": [
    "ma = {}\n",
    "mh = {}\n",
    "md = {}\n",
    "sa = {}\n",
    "sh = {}\n",
    "sd = {}\n",
    "for i in [45, 55, 65, 75, 85, 95]:\n",
    "    ma[i] = eval(\"mdf{}[mdf{}['day']==100]['active']\".format(i, i)).values[0]\n",
    "    mh[i] = eval(\"mdf{}[mdf{}['day']==100]['hospitalized']\".format(i, i)).values[0]\n",
    "    md[i] = eval(\"mdf{}[mdf{}['day']==100]['dead']\".format(i, i)).values[0]\n",
    "    sa[i] = eval(\"sdf{}[sdf{}['day']==100]['active']\".format(i, i)).values[0]\n",
    "    sh[i] = eval(\"sdf{}[sdf{}['day']==100]['hospitalized']\".format(i, i)).values[0]\n",
    "    sd[i] = eval(\"sdf{}[sdf{}['day']==100]['dead']\".format(i, i)).values[0]\n",
    "\n",
    "_df = pd.DataFrame({'ma':ma, 'mh':mh, 'md':md, 'sa':sa, 'sh':sh, 'sd':sd})\n",
    "\n",
    "_df.index = [x-10 for x in _df.index]\n",
    "\n",
    "fig, ax = plt.subplots(1,3, figsize=(7, 3))\n",
    "width=4\n",
    "bar_space = 0.2\n",
    "ticks = [x -10 for x in js]\n",
    "ax[0].bar(x=_df.index-width/2-bar_space, height=_df['sa'], label=\"Strict\", color=\"darkred\", width=width)\n",
    "ax[0].bar(x=_df.index+width/2+bar_space, height=_df['ma'], label=\"Loose\", color=\"darkblue\", width=width)\n",
    "ax[0].set_title(\"Active\")\n",
    "ax[0].set_xticks(ticks)\n",
    "#ax[0].set_yscale('log')\n",
    "#ax[0].set_xticklabels(ticks, rotation=90)\n",
    "ax[0].set_ylabel('Number of cases', fontsize=font_size)\n",
    "ax[0].yaxis.set_major_formatter(ticker.EngFormatter())\n",
    "\n",
    "\n",
    "ax[1].bar(x=_df.index-width/2-bar_space, height=_df['sh'], color=\"darkred\", width=width)\n",
    "ax[1].bar(x=_df.index+width/2+bar_space, height=_df['mh'], color=\"darkblue\", width=width)\n",
    "ax[1].set_title(\"Hospitalized\", fontsize=font_size)\n",
    "ax[1].set_xticks(ticks)\n",
    "#ax[1].set_yscale('log')\n",
    "ax[1].yaxis.set_major_formatter(ticker.EngFormatter())\n",
    "\n",
    "\n",
    "ax[2].bar(x=_df.index-width/2-bar_space, height=_df['sd'], color=\"darkred\", width=width)\n",
    "ax[2].bar(x=_df.index+width/2+bar_space, height=_df['md'], color=\"darkblue\", width=width)\n",
    "ax[2].set_title(\"Dead\", fontsize=font_size)\n",
    "ax[2].set_xticks(ticks)\n",
    "#ax[2].set_yscale('log')\n",
    "ax[2].yaxis.set_major_formatter(ticker.EngFormatter())\n",
    "\n",
    "\n",
    "fig.tight_layout()\n",
    "fig.legend(loc=2)\n",
    "\n",
    "fig.text(0.5, 0, 'Days after first patient diagnosis', ha='center', va='center',\n",
    "        fontsize=font_size)\n",
    "fig.tight_layout()\n",
    "plt.show()"
   ]
  },
  {
   "cell_type": "markdown",
   "metadata": {},
   "source": [
    "**Figure 2.** A summary of simulation results at day 90,\n",
    "x axis represents the start day of the community containment\n",
    "measures, y axis represents the number of\n",
    "cases."
   ]
  },
  {
   "cell_type": "markdown",
   "metadata": {},
   "source": [
    "## Plotting Figure 3.\n",
    "<hr style=\"border:2px solid black\"> </hr>"
   ]
  },
  {
   "cell_type": "code",
   "execution_count": null,
   "metadata": {},
   "outputs": [],
   "source": [
    "variable = \"'active'\"\n",
    "fig, ax = plt.subplots(1,1, figsize=(6,4))\n",
    "\n",
    "js_r = [55, 95]\n",
    "\n",
    "ax.plot(rdf95['day']-10, rdf95['active'], label = 'S85')\n",
    "ax.plot(rdf55['day']-10, rdf55['active'], label = 'S45-R75')\n",
    "ax.plot(nrdf55['day']-10, nrdf55['active'], label = 'S45')\n",
    "\n",
    "\n",
    "ax.legend()\n",
    "ax.set_xlim([35, 125])\n",
    "ax.set_ylim([0, 60000])\n",
    "\n",
    "ax.set_ylabel(\"Active cases\", fontsize=font_size)\n",
    "ax.yaxis.set_major_formatter(ticker.EngFormatter())\n",
    "\n",
    "axins = ax.inset_axes([0.075, 0.4, 0.4, 0.3])\n",
    "\n",
    "axins.plot(rdf95['day']-10, rdf95['active'], label = 'S85')\n",
    "axins.plot(rdf55['day']-10, rdf55['active'], label = 'S45-R75')\n",
    "\n",
    "axins.plot(nrdf55['day']-10, nrdf55['active'], label = 'S45')\n",
    "\n",
    "x1, x2, y1, y2 = 50, 100, 0, 2000\n",
    "axins.set_xlim(x1, x2)\n",
    "axins.set_ylim(y1, y2)\n",
    "axins.xaxis.set_ticks([50, 60, 70, 80, 90, 100])\n",
    "\n",
    "axins.yaxis.set_major_formatter(ticker.EngFormatter())\n",
    "ax.indicate_inset_zoom(axins)\n",
    "\n",
    "fig.tight_layout()\n",
    "fig.text(0.5, 0, 'Days after first patient diagnosis', ha='center', va='center', fontsize=font_size)\n",
    "plt.show()"
   ]
  },
  {
   "cell_type": "markdown",
   "metadata": {},
   "source": [
    "**Figure 3.** The effect of relaxing community containment\n",
    "measures on the number of active cases. S85:\n",
    "starting community containment measures at day 85,\n",
    "S45-R75: starting community containment at day 45\n",
    "with relaxation at day 75, S45: starting community\n",
    "containment at day 45 without relaxation."
   ]
  },
  {
   "cell_type": "markdown",
   "metadata": {},
   "source": [
    "## Plotting Figure 4.\n",
    "<hr style=\"border:2px solid black\"> </hr>"
   ]
  },
  {
   "cell_type": "code",
   "execution_count": null,
   "metadata": {},
   "outputs": [],
   "source": [
    "data = pd.read_csv(\"Results/owid-covid-data.csv\")\n",
    "fig, ax = plt.subplots(1,2, figsize=(6,3))\n",
    "mdf = pd.read_csv('Results/mdf55.csv')\n",
    "acu_infected = trim_zeros(list(mdf['acu_infected']))\n",
    "x='India'\n",
    "total_cases = trim_zeros(list(data[data['location']==x].reset_index()['total_cases']))\n",
    "length = len(total_cases) if len(total_cases) < 120 else 120\n",
    "ax[0].plot(total_cases[:length], label=x)\n",
    "\n",
    "ax[0].plot(acu_infected[:length], label='loose-45')\n",
    "ax[0].set_ylabel('Infected', fontsize=font_size)\n",
    "\n",
    "ax[0].legend()\n",
    "ax[0].set_title(\"Loose\", fontsize=font_size)\n",
    "\n",
    "ax[0].yaxis.set_major_formatter(ticker.EngFormatter())\n",
    "\n",
    "mdf = pd.read_csv('Results/sdf45.csv')\n",
    "acu_infected = trim_zeros(list(mdf['acu_infected']))\n",
    "\n",
    "x='San Marino'\n",
    "total_cases = trim_zeros(list(data[data['location']==x].reset_index()['total_cases']))\n",
    "length = len(total_cases) if len(total_cases) < 120 else 120\n",
    "ax[1].plot(total_cases[:length], label=x)\n",
    "ax[1].plot(acu_infected[:length], label='strict-35', color='green')\n",
    "\n",
    "\n",
    "ax[1].legend()\n",
    "#ax[0].set_xlim([55, 105])\n",
    "#ax[0].set_ylim([0, 10000])\n",
    "ax[1].set_title(\"Strict\", fontsize=font_size)\n",
    "ax[1].set_ylabel(\"Infected\", fontsize=font_size)\n",
    "ax[1].yaxis.set_major_formatter(ticker.EngFormatter())\n",
    "\n",
    "\n",
    "fig.text(0.5, 0, 'Days after first patient diagnosis', \n",
    "         ha='center', va='center', fontsize=font_size)\n",
    "fig.tight_layout()\n",
    "plt.show()"
   ]
  },
  {
   "cell_type": "markdown",
   "metadata": {},
   "source": [
    "**Figure 4.** Simulation results compared to real world\n",
    "statistics. left side panel shows loose measures in India\n",
    "corresponds to loose-45 (applying loose measures\n",
    "45 days after first patient diagnosis) model, while\n",
    "right side panel shows strict-35 model (applying strict\n",
    "measures 35 days after the diagnosis of first patient)\n",
    "model in comparison with Cuba statistics."
   ]
  },
  {
   "cell_type": "markdown",
   "metadata": {},
   "source": [
    "## Plotting Figure 5.\n",
    "<hr style=\"border:2px solid black\"> </hr>"
   ]
  },
  {
   "cell_type": "code",
   "execution_count": 1,
   "metadata": {},
   "outputs": [
    {
     "ename": "NameError",
     "evalue": "name 'pd' is not defined",
     "output_type": "error",
     "traceback": [
      "\u001b[0;31m---------------------------------------------------------------------------\u001b[0m",
      "\u001b[0;31mNameError\u001b[0m                                 Traceback (most recent call last)",
      "\u001b[0;32m<ipython-input-1-c180d730be96>\u001b[0m in \u001b[0;36m<module>\u001b[0;34m\u001b[0m\n\u001b[1;32m     42\u001b[0m \u001b[0;34m\u001b[0m\u001b[0m\n\u001b[1;32m     43\u001b[0m \u001b[0;34m\u001b[0m\u001b[0m\n\u001b[0;32m---> 44\u001b[0;31m \u001b[0mloose55\u001b[0m \u001b[0;34m=\u001b[0m \u001b[0mpd\u001b[0m\u001b[0;34m.\u001b[0m\u001b[0mread_csv\u001b[0m\u001b[0;34m(\u001b[0m\u001b[0;34m\"Results/loose_55_Network_degree.csv\"\u001b[0m\u001b[0;34m)\u001b[0m\u001b[0;34m\u001b[0m\u001b[0;34m\u001b[0m\u001b[0m\n\u001b[0m\u001b[1;32m     45\u001b[0m \u001b[0mstrict55\u001b[0m \u001b[0;34m=\u001b[0m \u001b[0mpd\u001b[0m\u001b[0;34m.\u001b[0m\u001b[0mread_csv\u001b[0m\u001b[0;34m(\u001b[0m\u001b[0;34m\"Results/strict_55_Network_degree.csv\"\u001b[0m\u001b[0;34m)\u001b[0m\u001b[0;34m\u001b[0m\u001b[0;34m\u001b[0m\u001b[0m\n\u001b[1;32m     46\u001b[0m \u001b[0;34m\u001b[0m\u001b[0m\n",
      "\u001b[0;31mNameError\u001b[0m: name 'pd' is not defined"
     ]
    }
   ],
   "source": [
    "import networkx as nx\n",
    "import json\n",
    "import gzip\n",
    "import matplotlib.gridspec\n",
    "\n",
    "\n",
    "def load_network(filename, duration=100):\n",
    "    with gzip.open(filename, \"r\") as f:\n",
    "        data = json.load(f)\n",
    "    nodes = data['detailed_result']\n",
    "    \n",
    "    g = nx.Graph()\n",
    "    g.add_node('73a12531-834a-40cc-8729-b168b956b9bb', parent_id = '')\n",
    "\n",
    "    for node in nodes:\n",
    "        if node['events']['infected'] < duration:\n",
    "            try:\n",
    "                g.add_node(node['id'], infected=node['events']['infected'], \n",
    "                                   diagnosed=node['events']['diagnosed'],\n",
    "                                   contagious = node['events']['contagious_start'],\n",
    "                                   parent_id = node['parent_id'])\n",
    "            except:\n",
    "                pass\n",
    "\n",
    "        try:\n",
    "            g.add_edge(node['parent_id'], node['id'])\n",
    "        except:\n",
    "            pass\n",
    "    return g\n",
    "\n",
    "g = load_network('Results/T3_strict_3percent_55_2.json.gz', duration=70)\n",
    "color_list = []\n",
    "\n",
    "for node in g.nodes(data=True):\n",
    "    try:\n",
    "        if node[1]['contagious'] > 55:\n",
    "            color_list.append('blue')\n",
    "        else:\n",
    "            color_list.append('green')\n",
    "    except:\n",
    "        color_list.append('blue')\n",
    "        \n",
    "\n",
    "loose55 = pd.read_csv(\"Results/loose_55_Network_degree.csv\")\n",
    "strict55 = pd.read_csv(\"Results/strict_55_Network_degree.csv\")\n",
    "\n",
    "loose = loose55.groupby('contagious')['degree'].mean()\n",
    "strict = strict55.groupby('contagious')['degree'].mean()\n",
    "\n",
    "plt.figure(figsize=(6, 3))\n",
    "plt.subplot(1, 2, 1)\n",
    "#plt.figure(figsize=(3, 3))\n",
    "nx.draw_kamada_kawai(g, node_size=20 , node_color=color_list)\n",
    "plt.subplot(1, 2, 2)\n",
    "\n",
    "plt.plot(loose.index[:47], loose[:47],  color='green', linestyle ='dashed')\n",
    "plt.plot(loose.index[47:], loose[47:],  color='blue', linestyle = 'dashed')\n",
    "plt.plot(strict.index[:47], strict[:47],  color='green')\n",
    "plt.plot(strict.index[47:], strict[47:],  color='blue')\n",
    "plt.plot(0, 0, label='Strict', color='black')\n",
    "plt.plot(0, 0, label='Loose', color='black', linestyle='dashed')\n",
    "plt.plot(0, 0, label='Before CC', color='green')\n",
    "plt.plot(0, 0, label='After CC', color='blue')\n",
    "plt.legend()\n",
    "plt.ylim([1, 7])\n",
    "plt.ylabel(\"Mean node degrees\", fontsize=14)\n",
    "plt.xlabel(\"Infection day\", fontsize = 14)\n",
    "\n",
    "plt.tight_layout()\n",
    "plt.show()"
   ]
  },
  {
   "cell_type": "markdown",
   "metadata": {},
   "source": [
    "**Figure 5.** Simulation network visualization and analysis.\n",
    "Left panel shows miniature example of built network\n",
    "graph for strict-55 model. Green colored nodes\n",
    "are the cases infected prior to introduction of community\n",
    "containment. Right panel shows the mean of node\n",
    "degrees, which corresponds to the number of cases got\n",
    "infected per patient. (CC: community containment)."
   ]
  }
 ],
 "metadata": {
  "kernelspec": {
   "display_name": "Python 3.7.1 64-bit ('base': conda)",
   "language": "python",
   "name": "python37164bitbasecondaceb098d2750a4ed99bdc3ca33188028d"
  },
  "language_info": {
   "codemirror_mode": {
    "name": "ipython",
    "version": 3
   },
   "file_extension": ".py",
   "mimetype": "text/x-python",
   "name": "python",
   "nbconvert_exporter": "python",
   "pygments_lexer": "ipython3",
   "version": "3.7.6"
  },
  "varInspector": {
   "cols": {
    "lenName": 16,
    "lenType": 16,
    "lenVar": 40
   },
   "kernels_config": {
    "python": {
     "delete_cmd_postfix": "",
     "delete_cmd_prefix": "del ",
     "library": "var_list.py",
     "varRefreshCmd": "print(var_dic_list())"
    },
    "r": {
     "delete_cmd_postfix": ") ",
     "delete_cmd_prefix": "rm(",
     "library": "var_list.r",
     "varRefreshCmd": "cat(var_dic_list()) "
    }
   },
   "types_to_exclude": [
    "module",
    "function",
    "builtin_function_or_method",
    "instance",
    "_Feature"
   ],
   "window_display": false
  }
 },
 "nbformat": 4,
 "nbformat_minor": 2
}
